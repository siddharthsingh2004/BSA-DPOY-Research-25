{
 "cells": [
  {
   "cell_type": "code",
   "execution_count": 1,
   "id": "0d8eb30d",
   "metadata": {},
   "outputs": [],
   "source": [
    "import pandas as pd\n",
    "import numpy as np\n",
    "from sklearn.preprocessing import StandardScaler\n",
    "from sklearn.decomposition import PCA\n",
    "from sklearn.linear_model import LassoCV"
   ]
  },
  {
   "cell_type": "code",
   "execution_count": 2,
   "id": "4f978899",
   "metadata": {},
   "outputs": [],
   "source": [
    "data = pd.read_excel(\"2024_Defense_Stats.xlsx\", sheet_name=\"Averages\")\n",
    "\n",
    "data = data[data['GP'] > 65]"
   ]
  },
  {
   "cell_type": "code",
   "execution_count": 3,
   "id": "edcf1aae",
   "metadata": {},
   "outputs": [],
   "source": [
    "excluded = [\"PLAYER\", \"POS\", \"TEAM\", \"AGE\", \"GP\", \"W\", \"L\", \"MIN\", \"DEF RTG\",\n",
    "            \"DREB\", \"%DREB\", \"DREB%\"]\n",
    "defensive_cols = [col for col in data.columns if col not in excluded]\n",
    "\n",
    "df_def = data[defensive_cols].dropna().copy()\n",
    "\n",
    "df_def['POS'] = data.loc[df_def.index, 'POS']"
   ]
  },
  {
   "cell_type": "code",
   "execution_count": 4,
   "id": "8931c6fa",
   "metadata": {},
   "outputs": [],
   "source": [
    "for col in defensive_cols:\n",
    "    df_def[col] = df_def.groupby('POS')[col].transform(lambda x: (x - x.mean()) / x.std())\n",
    "\n",
    "# Create a composite measure using the sum of the positional z-scores\n",
    "df_def['Total'] = df_def[defensive_cols].sum(axis=1)"
   ]
  },
  {
   "cell_type": "code",
   "execution_count": 5,
   "id": "064e1c55",
   "metadata": {},
   "outputs": [],
   "source": [
    "scaler = StandardScaler()\n",
    "X_scaled = scaler.fit_transform(df_def[defensive_cols])"
   ]
  },
  {
   "cell_type": "code",
   "execution_count": 6,
   "id": "76046295",
   "metadata": {},
   "outputs": [],
   "source": [
    "pca = PCA()\n",
    "X_pca = pca.fit_transform(X_scaled)"
   ]
  },
  {
   "cell_type": "code",
   "execution_count": 7,
   "id": "4f0772eb",
   "metadata": {},
   "outputs": [],
   "source": [
    "y = df_def['Total'].values\n",
    "\n",
    "lasso = LassoCV(cv=5, random_state=42)\n",
    "lasso.fit(X_pca, y)\n",
    "\n",
    "# Retrieve the Lasso coefficients and select non-zero components.\n",
    "lasso_coef = lasso.coef_\n",
    "selected_pcs = np.where(lasso_coef != 0)[0]"
   ]
  },
  {
   "cell_type": "code",
   "execution_count": 8,
   "id": "c27f246b",
   "metadata": {},
   "outputs": [],
   "source": [
    "weighted_score = X_pca[:, selected_pcs] @ lasso_coef[selected_pcs]\n",
    "min_score, max_score = weighted_score.min(), weighted_score.max()\n",
    "normalized_score = 100 * (weighted_score - min_score) / (max_score - min_score)"
   ]
  },
  {
   "cell_type": "code",
   "execution_count": 9,
   "id": "d057a51b",
   "metadata": {},
   "outputs": [],
   "source": [
    "df_result = data.loc[df_def.index].copy()\n",
    "df_result['Defensive Impact Score'] = normalized_score"
   ]
  },
  {
   "cell_type": "code",
   "execution_count": 10,
   "id": "25577d88",
   "metadata": {},
   "outputs": [],
   "source": [
    "top_5_by_pos = df_result.sort_values('Defensive Impact Score', ascending=False) \\\n",
    "    .groupby('POS').head(5)\n",
    "top_5_by_pos_display = top_5_by_pos[['PLAYER', 'TEAM', 'POS', 'Defensive Impact Score']] \\\n",
    "    .sort_values(by='Defensive Impact Score', ascending=False) \\\n",
    "    .reset_index(drop=True)\n",
    "\n",
    "top_5_by_pos_display.to_csv(\"Lasso_PCA_top5_by_pos.csv\", index=False)"
   ]
  },
  {
   "cell_type": "code",
   "execution_count": 11,
   "id": "4a7a38e4",
   "metadata": {},
   "outputs": [],
   "source": [
    "top_25_overall = df_result.sort_values('Defensive Impact Score', ascending=False).head(25)\n",
    "top_25_overall_display = top_25_overall[['PLAYER', 'TEAM', 'POS', 'Defensive Impact Score']] \\\n",
    "    .sort_values(by='Defensive Impact Score', ascending=False) \\\n",
    "    .reset_index(drop=True)\n",
    "\n",
    "top_25_overall_display.to_csv(\"Lasso_PCA_top25_overall.csv\", index=False)"
   ]
  }
 ],
 "metadata": {
  "kernelspec": {
   "display_name": "Python 3",
   "language": "python",
   "name": "python3"
  },
  "language_info": {
   "codemirror_mode": {
    "name": "ipython",
    "version": 3
   },
   "file_extension": ".py",
   "mimetype": "text/x-python",
   "name": "python",
   "nbconvert_exporter": "python",
   "pygments_lexer": "ipython3",
   "version": "3.11.1"
  }
 },
 "nbformat": 4,
 "nbformat_minor": 5
}
