{
 "cells": [
  {
   "cell_type": "code",
   "execution_count": 2,
   "id": "3c11819d",
   "metadata": {},
   "outputs": [],
   "source": [
    "import pandas as pd\n",
    "import numpy as np\n",
    "import seaborn as sns"
   ]
  },
  {
   "cell_type": "code",
   "execution_count": 4,
   "id": "c76cd64c",
   "metadata": {},
   "outputs": [],
   "source": [
    "data = pd.read_csv(\"2023-24 Advanced Stats.xlsx - Sheet1.csv\")"
   ]
  },
  {
   "cell_type": "code",
   "execution_count": 15,
   "id": "a7b1f9f7",
   "metadata": {},
   "outputs": [],
   "source": [
    "data = data[data['MP'] > 1300]"
   ]
  },
  {
   "cell_type": "code",
   "execution_count": 29,
   "id": "f01857a4",
   "metadata": {},
   "outputs": [
    {
     "name": "stderr",
     "output_type": "stream",
     "text": [
      "/opt/miniconda3/lib/python3.12/site-packages/sklearn/decomposition/_base.py:148: RuntimeWarning: divide by zero encountered in matmul\n",
      "  X_transformed = X @ self.components_.T\n",
      "/opt/miniconda3/lib/python3.12/site-packages/sklearn/decomposition/_base.py:148: RuntimeWarning: overflow encountered in matmul\n",
      "  X_transformed = X @ self.components_.T\n",
      "/opt/miniconda3/lib/python3.12/site-packages/sklearn/decomposition/_base.py:148: RuntimeWarning: invalid value encountered in matmul\n",
      "  X_transformed = X @ self.components_.T\n",
      "/var/folders/m4/9g845_mn0m97yp6bjm5ld8x80000gn/T/ipykernel_60852/1953840357.py:33: RuntimeWarning: divide by zero encountered in matmul\n",
      "  weighted_score = X_pca[:, selected_pcs] @ lasso_coef[selected_pcs]\n",
      "/var/folders/m4/9g845_mn0m97yp6bjm5ld8x80000gn/T/ipykernel_60852/1953840357.py:33: RuntimeWarning: overflow encountered in matmul\n",
      "  weighted_score = X_pca[:, selected_pcs] @ lasso_coef[selected_pcs]\n",
      "/var/folders/m4/9g845_mn0m97yp6bjm5ld8x80000gn/T/ipykernel_60852/1953840357.py:33: RuntimeWarning: invalid value encountered in matmul\n",
      "  weighted_score = X_pca[:, selected_pcs] @ lasso_coef[selected_pcs]\n"
     ]
    }
   ],
   "source": [
    "from sklearn.preprocessing import StandardScaler\n",
    "from sklearn.decomposition import PCA\n",
    "from sklearn.linear_model import LassoCV\n",
    "\n",
    "\n",
    "# Select defensive-related columns\n",
    "defensive_cols = [\"STL%\", \"DRB%\", \"BLK%\", \"DWS\", \"DBPM\"]\n",
    "df_def = data[defensive_cols].dropna()\n",
    "\n",
    "# Create a 'Total' column by summing across the selected defensive features\n",
    "df_def['Total'] = df_def.sum(axis=1)\n",
    "\n",
    "# Standardize the data\n",
    "scaler = StandardScaler()\n",
    "X_scaled = scaler.fit_transform(df_def)\n",
    "\n",
    "# Apply PCA\n",
    "pca = PCA()\n",
    "X_pca = pca.fit_transform(X_scaled)\n",
    "\n",
    "# Prepare target variable — we use 'DBPM' as the defensive performance proxy\n",
    "y = df_def['Total'].values\n",
    "\n",
    "# Use LassoCV to select important principal components\n",
    "lasso = LassoCV(cv=5, random_state=42)\n",
    "lasso.fit(X_pca, y)\n",
    "\n",
    "# Get the Lasso-selected components and their weights\n",
    "lasso_coef = lasso.coef_\n",
    "selected_pcs = np.where(lasso_coef != 0)[0]\n",
    "\n",
    "# Compute the weighted PC score\n",
    "weighted_score = X_pca[:, selected_pcs] @ lasso_coef[selected_pcs]\n",
    "\n",
    "# Normalize the score to 0–100\n",
    "min_score, max_score = weighted_score.min(), weighted_score.max()\n",
    "normalized_score = 100 * (weighted_score - min_score) / (max_score - min_score)\n",
    "\n",
    "# Add the final score to the dataframe\n",
    "df_result = data.loc[df_def.index].copy()\n",
    "df_result['Defensive Impact Score'] = normalized_score\n",
    "\n",
    "top_5_by_pos = df_result.sort_values('Defensive Impact Score', ascending = False).groupby('Pos').head(5)\n",
    "# Show only relevant columns\n",
    "top_5_by_pos_display = top_5_by_pos[['Player', 'Team', 'Pos', 'Defensive Impact Score']].sort_values(by = 'Defensive Impact Score', ascending=False).reset_index(drop=True)\n",
    "\n",
    "#export_df = df_result[[\"Player\", \"Defensive Impact Score\"]].sort_values(ascending=False, by = \"Defensive Impact Score\")\n",
    "export_df = top_5_by_pos_display"
   ]
  },
  {
   "cell_type": "code",
   "execution_count": 30,
   "id": "77443f1e",
   "metadata": {},
   "outputs": [],
   "source": [
    "export_df.to_csv(\"/Users/siddharth/Desktop/Lasso_PCA.csv\", index = False)"
   ]
  }
 ],
 "metadata": {
  "kernelspec": {
   "display_name": "base",
   "language": "python",
   "name": "python3"
  },
  "language_info": {
   "codemirror_mode": {
    "name": "ipython",
    "version": 3
   },
   "file_extension": ".py",
   "mimetype": "text/x-python",
   "name": "python",
   "nbconvert_exporter": "python",
   "pygments_lexer": "ipython3",
   "version": "3.12.9"
  }
 },
 "nbformat": 4,
 "nbformat_minor": 5
}
